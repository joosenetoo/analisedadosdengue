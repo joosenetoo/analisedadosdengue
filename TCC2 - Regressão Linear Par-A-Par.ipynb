{
 "cells": [
  {
   "cell_type": "code",
   "execution_count": 55,
   "metadata": {
    "collapsed": true
   },
   "outputs": [],
   "source": [
    "import pandas as pd\n",
    "import matplotlib.pyplot as plt\n",
    "%matplotlib inline\n",
    "import numpy as np\n",
    "import math\n",
    "%config InlineBackend.figure_format='svg'\n",
    "from datetime import datetime as dt\n",
    "from sklearn.model_selection import train_test_split\n",
    "from sklearn.linear_model import LinearRegression # importa o modelo"
   ]
  },
  {
   "cell_type": "code",
   "execution_count": 56,
   "metadata": {
    "collapsed": true
   },
   "outputs": [],
   "source": [
    "data = pd.read_csv(\"dataced.csv\", delimiter=';')"
   ]
  },
  {
   "cell_type": "code",
   "execution_count": 57,
   "metadata": {
    "collapsed": true
   },
   "outputs": [],
   "source": [
    "def converter(old):\n",
    "   return int(dt.strftime(dt.strptime(old, '%d/%m/%Y'), '%m'))"
   ]
  },
  {
   "cell_type": "code",
   "execution_count": 58,
   "metadata": {},
   "outputs": [
    {
     "name": "stderr",
     "output_type": "stream",
     "text": [
      "C:\\Users\\JoseNeto\\Anaconda3\\lib\\site-packages\\ipykernel_launcher.py:2: SettingWithCopyWarning: \n",
      "A value is trying to be set on a copy of a slice from a DataFrame\n",
      "\n",
      "See the caveats in the documentation: http://pandas.pydata.org/pandas-docs/stable/indexing.html#indexing-view-versus-copy\n",
      "  \n"
     ]
    }
   ],
   "source": [
    "for i in range(0,132,1):\n",
    "    data.Data[i] = converter(data.Data[i])"
   ]
  },
  {
   "cell_type": "code",
   "execution_count": 59,
   "metadata": {},
   "outputs": [
    {
     "data": {
      "text/html": [
       "<div>\n",
       "<style>\n",
       "    .dataframe thead tr:only-child th {\n",
       "        text-align: right;\n",
       "    }\n",
       "\n",
       "    .dataframe thead th {\n",
       "        text-align: left;\n",
       "    }\n",
       "\n",
       "    .dataframe tbody tr th {\n",
       "        vertical-align: top;\n",
       "    }\n",
       "</style>\n",
       "<table border=\"1\" class=\"dataframe\">\n",
       "  <thead>\n",
       "    <tr style=\"text-align: right;\">\n",
       "      <th></th>\n",
       "      <th>Data</th>\n",
       "      <th>EvapoBHReal</th>\n",
       "      <th>InsolacaoTotal</th>\n",
       "      <th>PrecipitacaoTotal</th>\n",
       "      <th>TempMaximaMedia</th>\n",
       "      <th>TempMinimaMedia</th>\n",
       "      <th>UmidadeRelativaMedia</th>\n",
       "      <th>CasosDengue</th>\n",
       "      <th>ChuvasAcumuladas</th>\n",
       "    </tr>\n",
       "  </thead>\n",
       "  <tbody>\n",
       "    <tr>\n",
       "      <th>0</th>\n",
       "      <td>1</td>\n",
       "      <td>62.8</td>\n",
       "      <td>273.2</td>\n",
       "      <td>18.9</td>\n",
       "      <td>36.0</td>\n",
       "      <td>24.5</td>\n",
       "      <td>62.0</td>\n",
       "      <td>1</td>\n",
       "      <td>27.8</td>\n",
       "    </tr>\n",
       "    <tr>\n",
       "      <th>1</th>\n",
       "      <td>2</td>\n",
       "      <td>96.0</td>\n",
       "      <td>243.5</td>\n",
       "      <td>114.5</td>\n",
       "      <td>35.1</td>\n",
       "      <td>23.7</td>\n",
       "      <td>61.4</td>\n",
       "      <td>3</td>\n",
       "      <td>68.3</td>\n",
       "    </tr>\n",
       "    <tr>\n",
       "      <th>2</th>\n",
       "      <td>3</td>\n",
       "      <td>111.3</td>\n",
       "      <td>207.0</td>\n",
       "      <td>307.3</td>\n",
       "      <td>35.1</td>\n",
       "      <td>23.8</td>\n",
       "      <td>65.2</td>\n",
       "      <td>29</td>\n",
       "      <td>384.3</td>\n",
       "    </tr>\n",
       "    <tr>\n",
       "      <th>3</th>\n",
       "      <td>4</td>\n",
       "      <td>86.3</td>\n",
       "      <td>265.0</td>\n",
       "      <td>97.7</td>\n",
       "      <td>33.6</td>\n",
       "      <td>23.6</td>\n",
       "      <td>68.1</td>\n",
       "      <td>99</td>\n",
       "      <td>47.5</td>\n",
       "    </tr>\n",
       "    <tr>\n",
       "      <th>4</th>\n",
       "      <td>5</td>\n",
       "      <td>63.0</td>\n",
       "      <td>217.2</td>\n",
       "      <td>28.2</td>\n",
       "      <td>32.6</td>\n",
       "      <td>23.0</td>\n",
       "      <td>70.1</td>\n",
       "      <td>128</td>\n",
       "      <td>20.7</td>\n",
       "    </tr>\n",
       "  </tbody>\n",
       "</table>\n",
       "</div>"
      ],
      "text/plain": [
       "  Data  EvapoBHReal  InsolacaoTotal  PrecipitacaoTotal  TempMaximaMedia  \\\n",
       "0    1         62.8           273.2               18.9             36.0   \n",
       "1    2         96.0           243.5              114.5             35.1   \n",
       "2    3        111.3           207.0              307.3             35.1   \n",
       "3    4         86.3           265.0               97.7             33.6   \n",
       "4    5         63.0           217.2               28.2             32.6   \n",
       "\n",
       "   TempMinimaMedia  UmidadeRelativaMedia  CasosDengue  ChuvasAcumuladas  \n",
       "0             24.5                  62.0            1              27.8  \n",
       "1             23.7                  61.4            3              68.3  \n",
       "2             23.8                  65.2           29             384.3  \n",
       "3             23.6                  68.1           99              47.5  \n",
       "4             23.0                  70.1          128              20.7  "
      ]
     },
     "execution_count": 59,
     "metadata": {},
     "output_type": "execute_result"
    }
   ],
   "source": [
    "data.head()"
   ]
  },
  {
   "cell_type": "code",
   "execution_count": 123,
   "metadata": {
    "collapsed": true
   },
   "outputs": [],
   "source": [
    "# Variáveis \n",
    "atributos = [\"Data\",\"ChuvasAcumuladas\", \"TempMaximaMedia\", \"UmidadeRelativaMedia\"]\n",
    "label = [\"CasosDengue\"]"
   ]
  },
  {
   "cell_type": "code",
   "execution_count": 124,
   "metadata": {
    "collapsed": true
   },
   "outputs": [],
   "source": [
    "x = data[atributos]"
   ]
  },
  {
   "cell_type": "code",
   "execution_count": 125,
   "metadata": {
    "collapsed": true
   },
   "outputs": [],
   "source": [
    "y = data[label]"
   ]
  },
  {
   "cell_type": "code",
   "execution_count": 126,
   "metadata": {
    "collapsed": true
   },
   "outputs": [],
   "source": [
    "regr = LinearRegression()"
   ]
  },
  {
   "cell_type": "code",
   "execution_count": 127,
   "metadata": {},
   "outputs": [
    {
     "data": {
      "text/plain": [
       "LinearRegression(copy_X=True, fit_intercept=True, n_jobs=1, normalize=False)"
      ]
     },
     "execution_count": 127,
     "metadata": {},
     "output_type": "execute_result"
    }
   ],
   "source": [
    "regr.fit(x,y)"
   ]
  },
  {
   "cell_type": "code",
   "execution_count": 128,
   "metadata": {},
   "outputs": [
    {
     "name": "stdout",
     "output_type": "stream",
     "text": [
      "Coeficiente:  [-83.25423785]\n",
      "Número de Coeficiente:  1\n"
     ]
    }
   ],
   "source": [
    "print(\"Coeficiente: \", regr.intercept_)\n",
    "print(\"Número de Coeficiente: \", len(regr.coef_))"
   ]
  },
  {
   "cell_type": "code",
   "execution_count": 129,
   "metadata": {},
   "outputs": [
    {
     "name": "stdout",
     "output_type": "stream",
     "text": [
      "R2 no set de treino: 0.15\n"
     ]
    }
   ],
   "source": [
    "r2 = regr.score(x, y)\n",
    "print('R2 no set de treino: %.2f' % r2)"
   ]
  },
  {
   "cell_type": "markdown",
   "metadata": {
    "collapsed": true
   },
   "source": [
    "# Utilizando o dataset filtrado pelo periodo da dengue em Patos"
   ]
  },
  {
   "cell_type": "code",
   "execution_count": 13,
   "metadata": {},
   "outputs": [],
   "source": [
    "data2 = pd.read_csv(\"dataced_filter.csv\", delimiter=';')"
   ]
  },
  {
   "cell_type": "code",
   "execution_count": 133,
   "metadata": {},
   "outputs": [
    {
     "data": {
      "text/html": [
       "<div>\n",
       "<style>\n",
       "    .dataframe thead tr:only-child th {\n",
       "        text-align: right;\n",
       "    }\n",
       "\n",
       "    .dataframe thead th {\n",
       "        text-align: left;\n",
       "    }\n",
       "\n",
       "    .dataframe tbody tr th {\n",
       "        vertical-align: top;\n",
       "    }\n",
       "</style>\n",
       "<table border=\"1\" class=\"dataframe\">\n",
       "  <thead>\n",
       "    <tr style=\"text-align: right;\">\n",
       "      <th></th>\n",
       "      <th>Data</th>\n",
       "      <th>TempMaximaMedia</th>\n",
       "      <th>TempMinimaMedia</th>\n",
       "      <th>UmidadeRelativaMedia</th>\n",
       "      <th>CasosDengue</th>\n",
       "      <th>ChuvasAcumuladas</th>\n",
       "    </tr>\n",
       "  </thead>\n",
       "  <tbody>\n",
       "    <tr>\n",
       "      <th>0</th>\n",
       "      <td>31/03/2005</td>\n",
       "      <td>35.1</td>\n",
       "      <td>23.8</td>\n",
       "      <td>65.2</td>\n",
       "      <td>29</td>\n",
       "      <td>384.3</td>\n",
       "    </tr>\n",
       "    <tr>\n",
       "      <th>1</th>\n",
       "      <td>30/04/2005</td>\n",
       "      <td>33.6</td>\n",
       "      <td>23.6</td>\n",
       "      <td>68.1</td>\n",
       "      <td>99</td>\n",
       "      <td>47.5</td>\n",
       "    </tr>\n",
       "    <tr>\n",
       "      <th>2</th>\n",
       "      <td>31/05/2005</td>\n",
       "      <td>32.6</td>\n",
       "      <td>23.0</td>\n",
       "      <td>70.1</td>\n",
       "      <td>128</td>\n",
       "      <td>20.7</td>\n",
       "    </tr>\n",
       "    <tr>\n",
       "      <th>3</th>\n",
       "      <td>30/06/2005</td>\n",
       "      <td>31.2</td>\n",
       "      <td>22.1</td>\n",
       "      <td>71.1</td>\n",
       "      <td>102</td>\n",
       "      <td>40.1</td>\n",
       "    </tr>\n",
       "    <tr>\n",
       "      <th>4</th>\n",
       "      <td>31/07/2005</td>\n",
       "      <td>32.7</td>\n",
       "      <td>20.9</td>\n",
       "      <td>62.1</td>\n",
       "      <td>71</td>\n",
       "      <td>0.0</td>\n",
       "    </tr>\n",
       "  </tbody>\n",
       "</table>\n",
       "</div>"
      ],
      "text/plain": [
       "         Data  TempMaximaMedia  TempMinimaMedia  UmidadeRelativaMedia  \\\n",
       "0  31/03/2005             35.1             23.8                  65.2   \n",
       "1  30/04/2005             33.6             23.6                  68.1   \n",
       "2  31/05/2005             32.6             23.0                  70.1   \n",
       "3  30/06/2005             31.2             22.1                  71.1   \n",
       "4  31/07/2005             32.7             20.9                  62.1   \n",
       "\n",
       "   CasosDengue  ChuvasAcumuladas  \n",
       "0           29             384.3  \n",
       "1           99              47.5  \n",
       "2          128              20.7  \n",
       "3          102              40.1  \n",
       "4           71               0.0  "
      ]
     },
     "execution_count": 133,
     "metadata": {},
     "output_type": "execute_result"
    }
   ],
   "source": [
    "data2.head()"
   ]
  },
  {
   "cell_type": "code",
   "execution_count": 134,
   "metadata": {},
   "outputs": [
    {
     "name": "stderr",
     "output_type": "stream",
     "text": [
      "C:\\Users\\JoseNeto\\Anaconda3\\lib\\site-packages\\ipykernel_launcher.py:2: SettingWithCopyWarning: \n",
      "A value is trying to be set on a copy of a slice from a DataFrame\n",
      "\n",
      "See the caveats in the documentation: http://pandas.pydata.org/pandas-docs/stable/indexing.html#indexing-view-versus-copy\n",
      "  \n"
     ]
    }
   ],
   "source": [
    "for i in range(0,55,1):\n",
    "    data2.Data[i] = converter(data2.Data[i])"
   ]
  },
  {
   "cell_type": "code",
   "execution_count": 135,
   "metadata": {},
   "outputs": [
    {
     "data": {
      "text/html": [
       "<div>\n",
       "<style>\n",
       "    .dataframe thead tr:only-child th {\n",
       "        text-align: right;\n",
       "    }\n",
       "\n",
       "    .dataframe thead th {\n",
       "        text-align: left;\n",
       "    }\n",
       "\n",
       "    .dataframe tbody tr th {\n",
       "        vertical-align: top;\n",
       "    }\n",
       "</style>\n",
       "<table border=\"1\" class=\"dataframe\">\n",
       "  <thead>\n",
       "    <tr style=\"text-align: right;\">\n",
       "      <th></th>\n",
       "      <th>Data</th>\n",
       "      <th>TempMaximaMedia</th>\n",
       "      <th>TempMinimaMedia</th>\n",
       "      <th>UmidadeRelativaMedia</th>\n",
       "      <th>CasosDengue</th>\n",
       "      <th>ChuvasAcumuladas</th>\n",
       "    </tr>\n",
       "  </thead>\n",
       "  <tbody>\n",
       "    <tr>\n",
       "      <th>0</th>\n",
       "      <td>3</td>\n",
       "      <td>35.1</td>\n",
       "      <td>23.8</td>\n",
       "      <td>65.2</td>\n",
       "      <td>29</td>\n",
       "      <td>384.3</td>\n",
       "    </tr>\n",
       "    <tr>\n",
       "      <th>1</th>\n",
       "      <td>4</td>\n",
       "      <td>33.6</td>\n",
       "      <td>23.6</td>\n",
       "      <td>68.1</td>\n",
       "      <td>99</td>\n",
       "      <td>47.5</td>\n",
       "    </tr>\n",
       "    <tr>\n",
       "      <th>2</th>\n",
       "      <td>5</td>\n",
       "      <td>32.6</td>\n",
       "      <td>23.0</td>\n",
       "      <td>70.1</td>\n",
       "      <td>128</td>\n",
       "      <td>20.7</td>\n",
       "    </tr>\n",
       "    <tr>\n",
       "      <th>3</th>\n",
       "      <td>6</td>\n",
       "      <td>31.2</td>\n",
       "      <td>22.1</td>\n",
       "      <td>71.1</td>\n",
       "      <td>102</td>\n",
       "      <td>40.1</td>\n",
       "    </tr>\n",
       "    <tr>\n",
       "      <th>4</th>\n",
       "      <td>7</td>\n",
       "      <td>32.7</td>\n",
       "      <td>20.9</td>\n",
       "      <td>62.1</td>\n",
       "      <td>71</td>\n",
       "      <td>0.0</td>\n",
       "    </tr>\n",
       "  </tbody>\n",
       "</table>\n",
       "</div>"
      ],
      "text/plain": [
       "  Data  TempMaximaMedia  TempMinimaMedia  UmidadeRelativaMedia  CasosDengue  \\\n",
       "0    3             35.1             23.8                  65.2           29   \n",
       "1    4             33.6             23.6                  68.1           99   \n",
       "2    5             32.6             23.0                  70.1          128   \n",
       "3    6             31.2             22.1                  71.1          102   \n",
       "4    7             32.7             20.9                  62.1           71   \n",
       "\n",
       "   ChuvasAcumuladas  \n",
       "0             384.3  \n",
       "1              47.5  \n",
       "2              20.7  \n",
       "3              40.1  \n",
       "4               0.0  "
      ]
     },
     "execution_count": 135,
     "metadata": {},
     "output_type": "execute_result"
    }
   ],
   "source": [
    "data2.head()"
   ]
  },
  {
   "cell_type": "code",
   "execution_count": 166,
   "metadata": {
    "collapsed": true
   },
   "outputs": [],
   "source": [
    "# Variáveis \n",
    "atributos2 = [\"Data\", \"TempMaximaMedia\",\"UmidadeRelativaMedia\", \"ChuvasAcumuladas\"]\n",
    "label2 = [\"CasosDengue\"]"
   ]
  },
  {
   "cell_type": "code",
   "execution_count": 167,
   "metadata": {},
   "outputs": [],
   "source": [
    "x2 = data2[atributos2]"
   ]
  },
  {
   "cell_type": "code",
   "execution_count": 168,
   "metadata": {
    "collapsed": true
   },
   "outputs": [],
   "source": [
    "y2 = data2[label2]"
   ]
  },
  {
   "cell_type": "code",
   "execution_count": 169,
   "metadata": {
    "collapsed": true
   },
   "outputs": [],
   "source": [
    "regr2 = LinearRegression()"
   ]
  },
  {
   "cell_type": "code",
   "execution_count": 170,
   "metadata": {},
   "outputs": [
    {
     "data": {
      "text/plain": [
       "LinearRegression(copy_X=True, fit_intercept=True, n_jobs=1, normalize=False)"
      ]
     },
     "execution_count": 170,
     "metadata": {},
     "output_type": "execute_result"
    }
   ],
   "source": [
    "regr2.fit(x2,y2)"
   ]
  },
  {
   "cell_type": "code",
   "execution_count": 171,
   "metadata": {},
   "outputs": [
    {
     "name": "stdout",
     "output_type": "stream",
     "text": [
      "Coeficiente:  [ 350.92376089]\n",
      "Número de Coeficiente:  1\n"
     ]
    }
   ],
   "source": [
    "print(\"Coeficiente: \", regr2.intercept_)\n",
    "print(\"Número de Coeficiente: \", len(regr2.coef_))"
   ]
  },
  {
   "cell_type": "code",
   "execution_count": 172,
   "metadata": {},
   "outputs": [
    {
     "name": "stdout",
     "output_type": "stream",
     "text": [
      "R2 no set de treino: 0.12\n"
     ]
    }
   ],
   "source": [
    "r2_2 = regr2.score(x2, y2)\n",
    "print('R2 no set de treino: %.2f' % r2_2)"
   ]
  },
  {
   "cell_type": "code",
   "execution_count": null,
   "metadata": {
    "collapsed": true
   },
   "outputs": [],
   "source": []
  },
  {
   "cell_type": "code",
   "execution_count": null,
   "metadata": {
    "collapsed": true
   },
   "outputs": [],
   "source": []
  }
 ],
 "metadata": {
  "kernelspec": {
   "display_name": "Python 3",
   "language": "python",
   "name": "python3"
  },
  "language_info": {
   "codemirror_mode": {
    "name": "ipython",
    "version": 3
   },
   "file_extension": ".py",
   "mimetype": "text/x-python",
   "name": "python",
   "nbconvert_exporter": "python",
   "pygments_lexer": "ipython3",
   "version": "3.6.3"
  }
 },
 "nbformat": 4,
 "nbformat_minor": 2
}
